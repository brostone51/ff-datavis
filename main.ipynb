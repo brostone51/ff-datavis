{
 "metadata": {
  "language_info": {
   "codemirror_mode": {
    "name": "ipython",
    "version": 3
   },
   "file_extension": ".py",
   "mimetype": "text/x-python",
   "name": "python",
   "nbconvert_exporter": "python",
   "pygments_lexer": "ipython3",
   "version": "3.6.9-final"
  },
  "orig_nbformat": 2,
  "kernelspec": {
   "name": "python3",
   "display_name": "Python 3.6.9 64-bit ('venv')",
   "metadata": {
    "interpreter": {
     "hash": "8322f5787e9c285e6169c7800581b64eddd689401aa144cc0a1679617c8e1d2d"
    }
   }
  }
 },
 "nbformat": 4,
 "nbformat_minor": 2,
 "cells": [
  {
   "cell_type": "code",
   "execution_count": 1,
   "metadata": {},
   "outputs": [],
   "source": [
    "%load_ext autoreload\n",
    "%autoreload 2"
   ]
  },
  {
   "source": [
    "Import required modules."
   ],
   "cell_type": "markdown",
   "metadata": {}
  },
  {
   "cell_type": "code",
   "execution_count": 2,
   "metadata": {},
   "outputs": [],
   "source": [
    "from functools import reduce\n",
    "import matplotlib as mpl\n",
    "import numpy as np\n",
    "import os\n",
    "import pandas as pd\n",
    "\n",
    "from ff_datavis.input_data import InputData"
   ]
  },
  {
   "source": [
    "Load input files into custom class (defined in ff_datavis/input_data). \n",
    "\n",
    "Manipulate the loaded data to only include quarterbacks and remove any erroneous characters."
   ],
   "cell_type": "markdown",
   "metadata": {}
  },
  {
   "cell_type": "code",
   "execution_count": 3,
   "metadata": {
    "tags": []
   },
   "outputs": [],
   "source": [
    "inputs = [InputData(file_name) for file_name in os.listdir('qb_data')]\n",
    "\n",
    "def shape_data(input: InputData):\n",
    "    df = input.df\n",
    "    df = df.set_index('Player')\n",
    "    df.index = df.index.str.replace(r'[*+]', '')\n",
    "    df.index = df.index.str.strip()\n",
    "    df['Pos'] = df['Pos'].str.upper()\n",
    "    df = df[df['Pos'] == 'QB']\n",
    "    df = df.rename(lambda s: s + f'[{input.year}]', axis='columns')\n",
    "    df.name = input.pretty_name()\n",
    "    df.year = input.year\n",
    "    return df\n",
    " \n",
    "dfs = [shape_data(input) for input in inputs]"
   ]
  },
  {
   "source": [
    "At this point, we have an array of data frames, each containing all QB statistics for a particular year.\n",
    "Whats left, is to join this data and to then generate our charts."
   ],
   "cell_type": "markdown",
   "metadata": {}
  },
  {
   "cell_type": "code",
   "execution_count": 4,
   "metadata": {},
   "outputs": [
    {
     "output_type": "execute_result",
     "data": {
      "text/plain": [
       "              Tm[2014]  Age[2014] Pos[2014]  G[2014]  GS[2014] QBrec[2014]  \\\n",
       "Player                                                                       \n",
       "Aaron Rodgers      GNB       31.0        QB     16.0      16.0      12-4-0   \n",
       "Alex Smith         KAN       30.0        QB     15.0      15.0       8-7-0   \n",
       "Andrew Luck        IND       25.0        QB     16.0      16.0      11-5-0   \n",
       "Andy Dalton        CIN       27.0        QB     16.0      16.0      10-5-1   \n",
       "Austin Davis       STL       25.0        QB     10.0       8.0       3-5-0   \n",
       "\n",
       "               Cmp[2014]  Att[2014]  Cmp%[2014]  Yds[2014]  ...  Y/G[2013]  \\\n",
       "Player                                                      ...              \n",
       "Aaron Rodgers      341.0      520.0        65.6     4381.0  ...      281.8   \n",
       "Alex Smith         303.0      464.0        65.3     3265.0  ...      220.9   \n",
       "Andrew Luck        380.0      616.0        61.7     4761.0  ...      238.9   \n",
       "Andy Dalton        309.0      481.0        64.2     3398.0  ...      268.3   \n",
       "Austin Davis       180.0      284.0        63.4     2001.0  ...        NaN   \n",
       "\n",
       "               Rate[2013]  QBR[2013]  Sk[2013]  Yds.1[2013]  NY/A[2013]  \\\n",
       "Player                                                                    \n",
       "Aaron Rodgers       104.9       60.6      21.0        117.0        7.78   \n",
       "Alex Smith           89.1       47.1      39.0        210.0        5.67   \n",
       "Andrew Luck          87.0       63.7      32.0        227.0        5.97   \n",
       "Andy Dalton          88.8       55.1      29.0        182.0        6.68   \n",
       "Austin Davis          NaN        NaN       NaN          NaN         NaN   \n",
       "\n",
       "               ANY/A[2013]  Sk%[2013]  4QC[2013]  GWD[2013]  \n",
       "Player                                                       \n",
       "Aaron Rodgers         8.00        6.8        1.0        1.0  \n",
       "Alex Smith            5.94        7.1        1.0        1.0  \n",
       "Andrew Luck           6.06        5.3        3.0        3.0  \n",
       "Andy Dalton           6.29        4.7        1.0        3.0  \n",
       "Austin Davis           NaN        NaN        NaN        NaN  \n",
       "\n",
       "[5 rows x 290 columns]"
      ],
      "text/html": "<div>\n<style scoped>\n    .dataframe tbody tr th:only-of-type {\n        vertical-align: middle;\n    }\n\n    .dataframe tbody tr th {\n        vertical-align: top;\n    }\n\n    .dataframe thead th {\n        text-align: right;\n    }\n</style>\n<table border=\"1\" class=\"dataframe\">\n  <thead>\n    <tr style=\"text-align: right;\">\n      <th></th>\n      <th>Tm[2014]</th>\n      <th>Age[2014]</th>\n      <th>Pos[2014]</th>\n      <th>G[2014]</th>\n      <th>GS[2014]</th>\n      <th>QBrec[2014]</th>\n      <th>Cmp[2014]</th>\n      <th>Att[2014]</th>\n      <th>Cmp%[2014]</th>\n      <th>Yds[2014]</th>\n      <th>...</th>\n      <th>Y/G[2013]</th>\n      <th>Rate[2013]</th>\n      <th>QBR[2013]</th>\n      <th>Sk[2013]</th>\n      <th>Yds.1[2013]</th>\n      <th>NY/A[2013]</th>\n      <th>ANY/A[2013]</th>\n      <th>Sk%[2013]</th>\n      <th>4QC[2013]</th>\n      <th>GWD[2013]</th>\n    </tr>\n    <tr>\n      <th>Player</th>\n      <th></th>\n      <th></th>\n      <th></th>\n      <th></th>\n      <th></th>\n      <th></th>\n      <th></th>\n      <th></th>\n      <th></th>\n      <th></th>\n      <th></th>\n      <th></th>\n      <th></th>\n      <th></th>\n      <th></th>\n      <th></th>\n      <th></th>\n      <th></th>\n      <th></th>\n      <th></th>\n      <th></th>\n    </tr>\n  </thead>\n  <tbody>\n    <tr>\n      <th>Aaron Rodgers</th>\n      <td>GNB</td>\n      <td>31.0</td>\n      <td>QB</td>\n      <td>16.0</td>\n      <td>16.0</td>\n      <td>12-4-0</td>\n      <td>341.0</td>\n      <td>520.0</td>\n      <td>65.6</td>\n      <td>4381.0</td>\n      <td>...</td>\n      <td>281.8</td>\n      <td>104.9</td>\n      <td>60.6</td>\n      <td>21.0</td>\n      <td>117.0</td>\n      <td>7.78</td>\n      <td>8.00</td>\n      <td>6.8</td>\n      <td>1.0</td>\n      <td>1.0</td>\n    </tr>\n    <tr>\n      <th>Alex Smith</th>\n      <td>KAN</td>\n      <td>30.0</td>\n      <td>QB</td>\n      <td>15.0</td>\n      <td>15.0</td>\n      <td>8-7-0</td>\n      <td>303.0</td>\n      <td>464.0</td>\n      <td>65.3</td>\n      <td>3265.0</td>\n      <td>...</td>\n      <td>220.9</td>\n      <td>89.1</td>\n      <td>47.1</td>\n      <td>39.0</td>\n      <td>210.0</td>\n      <td>5.67</td>\n      <td>5.94</td>\n      <td>7.1</td>\n      <td>1.0</td>\n      <td>1.0</td>\n    </tr>\n    <tr>\n      <th>Andrew Luck</th>\n      <td>IND</td>\n      <td>25.0</td>\n      <td>QB</td>\n      <td>16.0</td>\n      <td>16.0</td>\n      <td>11-5-0</td>\n      <td>380.0</td>\n      <td>616.0</td>\n      <td>61.7</td>\n      <td>4761.0</td>\n      <td>...</td>\n      <td>238.9</td>\n      <td>87.0</td>\n      <td>63.7</td>\n      <td>32.0</td>\n      <td>227.0</td>\n      <td>5.97</td>\n      <td>6.06</td>\n      <td>5.3</td>\n      <td>3.0</td>\n      <td>3.0</td>\n    </tr>\n    <tr>\n      <th>Andy Dalton</th>\n      <td>CIN</td>\n      <td>27.0</td>\n      <td>QB</td>\n      <td>16.0</td>\n      <td>16.0</td>\n      <td>10-5-1</td>\n      <td>309.0</td>\n      <td>481.0</td>\n      <td>64.2</td>\n      <td>3398.0</td>\n      <td>...</td>\n      <td>268.3</td>\n      <td>88.8</td>\n      <td>55.1</td>\n      <td>29.0</td>\n      <td>182.0</td>\n      <td>6.68</td>\n      <td>6.29</td>\n      <td>4.7</td>\n      <td>1.0</td>\n      <td>3.0</td>\n    </tr>\n    <tr>\n      <th>Austin Davis</th>\n      <td>STL</td>\n      <td>25.0</td>\n      <td>QB</td>\n      <td>10.0</td>\n      <td>8.0</td>\n      <td>3-5-0</td>\n      <td>180.0</td>\n      <td>284.0</td>\n      <td>63.4</td>\n      <td>2001.0</td>\n      <td>...</td>\n      <td>NaN</td>\n      <td>NaN</td>\n      <td>NaN</td>\n      <td>NaN</td>\n      <td>NaN</td>\n      <td>NaN</td>\n      <td>NaN</td>\n      <td>NaN</td>\n      <td>NaN</td>\n      <td>NaN</td>\n    </tr>\n  </tbody>\n</table>\n<p>5 rows × 290 columns</p>\n</div>"
     },
     "metadata": {},
     "execution_count": 4
    }
   ],
   "source": [
    "joined = reduce(lambda df1, df2: df1.join(df2, how='outer'), dfs)\n",
    "joined.head()"
   ]
  },
  {
   "cell_type": "code",
   "execution_count": 10,
   "metadata": {},
   "outputs": [
    {
     "output_type": "execute_result",
     "data": {
      "text/plain": [
       "                   Yds[2014]  TD[2014]  Int[2014]  Cmp%[2014]  QBR[2014]  \\\n",
       "Player                                                                     \n",
       "Aaron Rodgers         4381.0      38.0        5.0        65.6       78.3   \n",
       "Alex Smith            3265.0      18.0        6.0        65.3       51.7   \n",
       "Andrew Luck           4761.0      40.0       16.0        61.7       62.6   \n",
       "Andy Dalton           3398.0      19.0       17.0        64.2       48.5   \n",
       "Austin Davis          2001.0      12.0        9.0        63.4       44.2   \n",
       "...                      ...       ...        ...         ...        ...   \n",
       "Trevor Siemian           NaN       NaN        NaN         NaN        NaN   \n",
       "Troy Smith               NaN       NaN        NaN         NaN        NaN   \n",
       "Tyrod Taylor             NaN       NaN        NaN         NaN        NaN   \n",
       "Vince Young              NaN       NaN        NaN         NaN        NaN   \n",
       "Zach Mettenberger     1412.0       8.0        7.0        59.8       30.8   \n",
       "\n",
       "                   Yds[2015]  TD[2015]  Int[2015]  Cmp%[2015]  QBR[2015]  ...  \\\n",
       "Player                                                                    ...   \n",
       "Aaron Rodgers         3821.0      31.0        8.0        60.7       60.3  ...   \n",
       "Alex Smith            3486.0      20.0        7.0        65.3       58.4  ...   \n",
       "Andrew Luck           1881.0      15.0       12.0        55.3       49.4  ...   \n",
       "Andy Dalton           3250.0      25.0        7.0        66.1       70.0  ...   \n",
       "Austin Davis             NaN       NaN        NaN         NaN        NaN  ...   \n",
       "...                      ...       ...        ...         ...        ...  ...   \n",
       "Trevor Siemian           NaN       NaN        NaN         NaN        NaN  ...   \n",
       "Troy Smith               NaN       NaN        NaN         NaN        NaN  ...   \n",
       "Tyrod Taylor          3035.0      20.0        6.0        63.7       65.3  ...   \n",
       "Vince Young              NaN       NaN        NaN         NaN        NaN  ...   \n",
       "Zach Mettenberger      935.0       4.0        7.0        60.8       18.4  ...   \n",
       "\n",
       "                   Rank_Yds[2016]  Rank_TD[2016]  Rank_Int[2016]  \\\n",
       "Player                                                             \n",
       "Aaron Rodgers            0.921053       1.000000        0.631579   \n",
       "Alex Smith               0.447368       0.302632        0.565789   \n",
       "Andrew Luck              0.815789       0.894737        0.328947   \n",
       "Andy Dalton              0.736842       0.434211        0.565789   \n",
       "Austin Davis                  NaN            NaN             NaN   \n",
       "...                           ...            ...             ...   \n",
       "Trevor Siemian           0.394737       0.434211        0.486842   \n",
       "Troy Smith                    NaN            NaN             NaN   \n",
       "Tyrod Taylor             0.368421       0.394737        0.723684   \n",
       "Vince Young                   NaN            NaN             NaN   \n",
       "Zach Mettenberger             NaN            NaN             NaN   \n",
       "\n",
       "                   Rank_Cmp%[2016]  Rank_QBR[2016]  Rank_Yds[2013]  \\\n",
       "Player                                                               \n",
       "Aaron Rodgers             0.763158        0.921053        0.428571   \n",
       "Alex Smith                0.855263        0.657895        0.619048   \n",
       "Andrew Luck               0.552632        0.842105        0.714286   \n",
       "Andy Dalton               0.644737        0.447368        0.857143   \n",
       "Austin Davis                   NaN             NaN             NaN   \n",
       "...                            ...             ...             ...   \n",
       "Trevor Siemian            0.289474        0.289474             NaN   \n",
       "Troy Smith                     NaN             NaN             NaN   \n",
       "Tyrod Taylor              0.473684        0.763158             NaN   \n",
       "Vince Young                    NaN             NaN             NaN   \n",
       "Zach Mettenberger              NaN             NaN             NaN   \n",
       "\n",
       "                   Rank_TD[2013]  Rank_Int[2013]  Rank_Cmp%[2013]  \\\n",
       "Player                                                              \n",
       "Aaron Rodgers           0.500000        0.821429         0.904762   \n",
       "Alex Smith              0.654762        0.761905         0.535714   \n",
       "Andrew Luck             0.654762        0.571429         0.440476   \n",
       "Andy Dalton             0.952381        0.095238         0.666667   \n",
       "Austin Davis                 NaN             NaN              NaN   \n",
       "...                          ...             ...              ...   \n",
       "Trevor Siemian               NaN             NaN              NaN   \n",
       "Troy Smith                   NaN             NaN              NaN   \n",
       "Tyrod Taylor                 NaN             NaN              NaN   \n",
       "Vince Young                  NaN             NaN              NaN   \n",
       "Zach Mettenberger            NaN             NaN              NaN   \n",
       "\n",
       "                   Rank_QBR[2013]  \n",
       "Player                             \n",
       "Aaron Rodgers            0.690476  \n",
       "Alex Smith               0.285714  \n",
       "Andrew Luck              0.761905  \n",
       "Andy Dalton              0.523810  \n",
       "Austin Davis                  NaN  \n",
       "...                           ...  \n",
       "Trevor Siemian                NaN  \n",
       "Troy Smith                    NaN  \n",
       "Tyrod Taylor                  NaN  \n",
       "Vince Young                   NaN  \n",
       "Zach Mettenberger             NaN  \n",
       "\n",
       "[113 rows x 100 columns]"
      ],
      "text/html": "<div>\n<style scoped>\n    .dataframe tbody tr th:only-of-type {\n        vertical-align: middle;\n    }\n\n    .dataframe tbody tr th {\n        vertical-align: top;\n    }\n\n    .dataframe thead th {\n        text-align: right;\n    }\n</style>\n<table border=\"1\" class=\"dataframe\">\n  <thead>\n    <tr style=\"text-align: right;\">\n      <th></th>\n      <th>Yds[2014]</th>\n      <th>TD[2014]</th>\n      <th>Int[2014]</th>\n      <th>Cmp%[2014]</th>\n      <th>QBR[2014]</th>\n      <th>Yds[2015]</th>\n      <th>TD[2015]</th>\n      <th>Int[2015]</th>\n      <th>Cmp%[2015]</th>\n      <th>QBR[2015]</th>\n      <th>...</th>\n      <th>Rank_Yds[2016]</th>\n      <th>Rank_TD[2016]</th>\n      <th>Rank_Int[2016]</th>\n      <th>Rank_Cmp%[2016]</th>\n      <th>Rank_QBR[2016]</th>\n      <th>Rank_Yds[2013]</th>\n      <th>Rank_TD[2013]</th>\n      <th>Rank_Int[2013]</th>\n      <th>Rank_Cmp%[2013]</th>\n      <th>Rank_QBR[2013]</th>\n    </tr>\n    <tr>\n      <th>Player</th>\n      <th></th>\n      <th></th>\n      <th></th>\n      <th></th>\n      <th></th>\n      <th></th>\n      <th></th>\n      <th></th>\n      <th></th>\n      <th></th>\n      <th></th>\n      <th></th>\n      <th></th>\n      <th></th>\n      <th></th>\n      <th></th>\n      <th></th>\n      <th></th>\n      <th></th>\n      <th></th>\n      <th></th>\n    </tr>\n  </thead>\n  <tbody>\n    <tr>\n      <th>Aaron Rodgers</th>\n      <td>4381.0</td>\n      <td>38.0</td>\n      <td>5.0</td>\n      <td>65.6</td>\n      <td>78.3</td>\n      <td>3821.0</td>\n      <td>31.0</td>\n      <td>8.0</td>\n      <td>60.7</td>\n      <td>60.3</td>\n      <td>...</td>\n      <td>0.921053</td>\n      <td>1.000000</td>\n      <td>0.631579</td>\n      <td>0.763158</td>\n      <td>0.921053</td>\n      <td>0.428571</td>\n      <td>0.500000</td>\n      <td>0.821429</td>\n      <td>0.904762</td>\n      <td>0.690476</td>\n    </tr>\n    <tr>\n      <th>Alex Smith</th>\n      <td>3265.0</td>\n      <td>18.0</td>\n      <td>6.0</td>\n      <td>65.3</td>\n      <td>51.7</td>\n      <td>3486.0</td>\n      <td>20.0</td>\n      <td>7.0</td>\n      <td>65.3</td>\n      <td>58.4</td>\n      <td>...</td>\n      <td>0.447368</td>\n      <td>0.302632</td>\n      <td>0.565789</td>\n      <td>0.855263</td>\n      <td>0.657895</td>\n      <td>0.619048</td>\n      <td>0.654762</td>\n      <td>0.761905</td>\n      <td>0.535714</td>\n      <td>0.285714</td>\n    </tr>\n    <tr>\n      <th>Andrew Luck</th>\n      <td>4761.0</td>\n      <td>40.0</td>\n      <td>16.0</td>\n      <td>61.7</td>\n      <td>62.6</td>\n      <td>1881.0</td>\n      <td>15.0</td>\n      <td>12.0</td>\n      <td>55.3</td>\n      <td>49.4</td>\n      <td>...</td>\n      <td>0.815789</td>\n      <td>0.894737</td>\n      <td>0.328947</td>\n      <td>0.552632</td>\n      <td>0.842105</td>\n      <td>0.714286</td>\n      <td>0.654762</td>\n      <td>0.571429</td>\n      <td>0.440476</td>\n      <td>0.761905</td>\n    </tr>\n    <tr>\n      <th>Andy Dalton</th>\n      <td>3398.0</td>\n      <td>19.0</td>\n      <td>17.0</td>\n      <td>64.2</td>\n      <td>48.5</td>\n      <td>3250.0</td>\n      <td>25.0</td>\n      <td>7.0</td>\n      <td>66.1</td>\n      <td>70.0</td>\n      <td>...</td>\n      <td>0.736842</td>\n      <td>0.434211</td>\n      <td>0.565789</td>\n      <td>0.644737</td>\n      <td>0.447368</td>\n      <td>0.857143</td>\n      <td>0.952381</td>\n      <td>0.095238</td>\n      <td>0.666667</td>\n      <td>0.523810</td>\n    </tr>\n    <tr>\n      <th>Austin Davis</th>\n      <td>2001.0</td>\n      <td>12.0</td>\n      <td>9.0</td>\n      <td>63.4</td>\n      <td>44.2</td>\n      <td>NaN</td>\n      <td>NaN</td>\n      <td>NaN</td>\n      <td>NaN</td>\n      <td>NaN</td>\n      <td>...</td>\n      <td>NaN</td>\n      <td>NaN</td>\n      <td>NaN</td>\n      <td>NaN</td>\n      <td>NaN</td>\n      <td>NaN</td>\n      <td>NaN</td>\n      <td>NaN</td>\n      <td>NaN</td>\n      <td>NaN</td>\n    </tr>\n    <tr>\n      <th>...</th>\n      <td>...</td>\n      <td>...</td>\n      <td>...</td>\n      <td>...</td>\n      <td>...</td>\n      <td>...</td>\n      <td>...</td>\n      <td>...</td>\n      <td>...</td>\n      <td>...</td>\n      <td>...</td>\n      <td>...</td>\n      <td>...</td>\n      <td>...</td>\n      <td>...</td>\n      <td>...</td>\n      <td>...</td>\n      <td>...</td>\n      <td>...</td>\n      <td>...</td>\n      <td>...</td>\n    </tr>\n    <tr>\n      <th>Trevor Siemian</th>\n      <td>NaN</td>\n      <td>NaN</td>\n      <td>NaN</td>\n      <td>NaN</td>\n      <td>NaN</td>\n      <td>NaN</td>\n      <td>NaN</td>\n      <td>NaN</td>\n      <td>NaN</td>\n      <td>NaN</td>\n      <td>...</td>\n      <td>0.394737</td>\n      <td>0.434211</td>\n      <td>0.486842</td>\n      <td>0.289474</td>\n      <td>0.289474</td>\n      <td>NaN</td>\n      <td>NaN</td>\n      <td>NaN</td>\n      <td>NaN</td>\n      <td>NaN</td>\n    </tr>\n    <tr>\n      <th>Troy Smith</th>\n      <td>NaN</td>\n      <td>NaN</td>\n      <td>NaN</td>\n      <td>NaN</td>\n      <td>NaN</td>\n      <td>NaN</td>\n      <td>NaN</td>\n      <td>NaN</td>\n      <td>NaN</td>\n      <td>NaN</td>\n      <td>...</td>\n      <td>NaN</td>\n      <td>NaN</td>\n      <td>NaN</td>\n      <td>NaN</td>\n      <td>NaN</td>\n      <td>NaN</td>\n      <td>NaN</td>\n      <td>NaN</td>\n      <td>NaN</td>\n      <td>NaN</td>\n    </tr>\n    <tr>\n      <th>Tyrod Taylor</th>\n      <td>NaN</td>\n      <td>NaN</td>\n      <td>NaN</td>\n      <td>NaN</td>\n      <td>NaN</td>\n      <td>3035.0</td>\n      <td>20.0</td>\n      <td>6.0</td>\n      <td>63.7</td>\n      <td>65.3</td>\n      <td>...</td>\n      <td>0.368421</td>\n      <td>0.394737</td>\n      <td>0.723684</td>\n      <td>0.473684</td>\n      <td>0.763158</td>\n      <td>NaN</td>\n      <td>NaN</td>\n      <td>NaN</td>\n      <td>NaN</td>\n      <td>NaN</td>\n    </tr>\n    <tr>\n      <th>Vince Young</th>\n      <td>NaN</td>\n      <td>NaN</td>\n      <td>NaN</td>\n      <td>NaN</td>\n      <td>NaN</td>\n      <td>NaN</td>\n      <td>NaN</td>\n      <td>NaN</td>\n      <td>NaN</td>\n      <td>NaN</td>\n      <td>...</td>\n      <td>NaN</td>\n      <td>NaN</td>\n      <td>NaN</td>\n      <td>NaN</td>\n      <td>NaN</td>\n      <td>NaN</td>\n      <td>NaN</td>\n      <td>NaN</td>\n      <td>NaN</td>\n      <td>NaN</td>\n    </tr>\n    <tr>\n      <th>Zach Mettenberger</th>\n      <td>1412.0</td>\n      <td>8.0</td>\n      <td>7.0</td>\n      <td>59.8</td>\n      <td>30.8</td>\n      <td>935.0</td>\n      <td>4.0</td>\n      <td>7.0</td>\n      <td>60.8</td>\n      <td>18.4</td>\n      <td>...</td>\n      <td>NaN</td>\n      <td>NaN</td>\n      <td>NaN</td>\n      <td>NaN</td>\n      <td>NaN</td>\n      <td>NaN</td>\n      <td>NaN</td>\n      <td>NaN</td>\n      <td>NaN</td>\n      <td>NaN</td>\n    </tr>\n  </tbody>\n</table>\n<p>113 rows × 100 columns</p>\n</div>"
     },
     "metadata": {},
     "execution_count": 10
    }
   ],
   "source": [
    "years = [df.year for df in dfs]\n",
    "categories= ['Yds', 'TD', 'Int', 'Cmp%', 'QBR']\n",
    "combined = []\n",
    "for year in years:\n",
    "    for category in categories:\n",
    "       combined.append(f'{category}[{year}]')\n",
    "joined = joined[combined]\n",
    "\n",
    "for c in combined:\n",
    "    joined['Rank_' + c] = joined[c].rank(pct=True)\n",
    "\n",
    "for year in years:\n",
    "    joined[f'Rank_Int[{year}]'] = 1 - joined[f'Rank_Int[{year}]']\n",
    "\n",
    "joined"
   ]
  }
 ]
}