{
 "metadata": {
  "language_info": {
   "codemirror_mode": {
    "name": "ipython",
    "version": 3
   },
   "file_extension": ".py",
   "mimetype": "text/x-python",
   "name": "python",
   "nbconvert_exporter": "python",
   "pygments_lexer": "ipython3",
   "version": "3.6.9-final"
  },
  "orig_nbformat": 2,
  "kernelspec": {
   "name": "python3",
   "display_name": "Python 3.6.9 64-bit ('venv')",
   "metadata": {
    "interpreter": {
     "hash": "8322f5787e9c285e6169c7800581b64eddd689401aa144cc0a1679617c8e1d2d"
    }
   }
  }
 },
 "nbformat": 4,
 "nbformat_minor": 2,
 "cells": [
  {
   "cell_type": "code",
   "execution_count": 1,
   "metadata": {},
   "outputs": [],
   "source": [
    "%load_ext autoreload\n",
    "%autoreload 2"
   ]
  },
  {
   "source": [
    "Import required modules."
   ],
   "cell_type": "markdown",
   "metadata": {}
  },
  {
   "cell_type": "code",
   "execution_count": 2,
   "metadata": {},
   "outputs": [],
   "source": [
    "import numpy as np\n",
    "import pandas as pd\n",
    "import os\n",
    "\n",
    "from ff_datavis.input_data import InputData"
   ]
  },
  {
   "source": [
    "Load input files into custom class (defined in ff_datavis/input_data). \n",
    "\n",
    "Manipulate the loaded data to only include quarterbacks and remove any erroneous characters."
   ],
   "cell_type": "markdown",
   "metadata": {}
  },
  {
   "cell_type": "code",
   "execution_count": 3,
   "metadata": {
    "tags": []
   },
   "outputs": [
    {
     "output_type": "execute_result",
     "data": {
      "text/plain": [
       "'2014'"
      ]
     },
     "metadata": {},
     "execution_count": 3
    }
   ],
   "source": [
    "inputs = [InputData(file_name) for file_name in os.listdir('qb_data')]\n",
    "\n",
    "def shape_data(input: InputData):\n",
    "    df = input.df\n",
    "    df = df.set_index('Player')\n",
    "    df.index = df.index.str.replace(r'[*+]', '')\n",
    "    df.index = df.index.str.strip()\n",
    "    df['Pos'] = df['Pos'].str.upper()\n",
    "    df = df[df['Pos'] == 'QB']\n",
    "    df.name = input.pretty_name()\n",
    "    df.year = input.year\n",
    "    return df\n",
    " \n",
    "dfs = [shape_data(input) for input in inputs]"
   ]
  },
  {
   "source": [
    "At this point, we have an array of data frames, each containing all QB statistics for a particular year.\n",
    "Whats left, is to join this data and to then generate our charts."
   ],
   "cell_type": "markdown",
   "metadata": {}
  }
 ]
}